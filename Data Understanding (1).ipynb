{
 "cells": [
  {
   "cell_type": "markdown",
   "id": "93a59755",
   "metadata": {},
   "source": [
    "## 2. Data Understanding\n",
    "\n",
    "The data used in this project was obtained from the [Zillow housing data](https://www.zillow.com/research/data/). Our aim is to investigate the data in an attempt to get a deeper understanding of it. \n",
    "\n"
   ]
  },
  {
   "cell_type": "markdown",
   "id": "bfaae167",
   "metadata": {},
   "source": [
    "#### 2.1 Data Description"
   ]
  },
  {
   "cell_type": "markdown",
   "id": "994d06e4",
   "metadata": {},
   "source": [
    "##### Importing the necessary libaries"
   ]
  },
  {
   "cell_type": "code",
   "execution_count": 1,
   "id": "496575ab",
   "metadata": {},
   "outputs": [],
   "source": [
    "# For data manipulation \n",
    "import pandas as pd\n",
    "# For data analysis\n",
    "import numpy as np\n",
    "#For data visualization\n",
    "import seaborn as sns\n",
    "import matplotlib.pyplot as plt\n",
    "%matplotlib inline\n",
    "\n",
    "# Warning libraries\n",
    "import warnings\n",
    "warnings.simplefilter(\"ignore\")\n",
    "warnings.filterwarnings('ignore')\n"
   ]
  },
  {
   "cell_type": "markdown",
   "id": "37c90f08",
   "metadata": {},
   "source": [
    "##### Loading the dataset"
   ]
  },
  {
   "cell_type": "code",
   "execution_count": 2,
   "id": "c091be95",
   "metadata": {},
   "outputs": [],
   "source": [
    "data = pd.read_csv(\"zillow_data.csv\")"
   ]
  },
  {
   "cell_type": "markdown",
   "id": "d153677f",
   "metadata": {},
   "source": [
    "##### Displaying First Rows"
   ]
  },
  {
   "cell_type": "code",
   "execution_count": 3,
   "id": "a66521f0",
   "metadata": {},
   "outputs": [
    {
     "data": {
      "text/html": [
       "<div>\n",
       "<style scoped>\n",
       "    .dataframe tbody tr th:only-of-type {\n",
       "        vertical-align: middle;\n",
       "    }\n",
       "\n",
       "    .dataframe tbody tr th {\n",
       "        vertical-align: top;\n",
       "    }\n",
       "\n",
       "    .dataframe thead th {\n",
       "        text-align: right;\n",
       "    }\n",
       "</style>\n",
       "<table border=\"1\" class=\"dataframe\">\n",
       "  <thead>\n",
       "    <tr style=\"text-align: right;\">\n",
       "      <th></th>\n",
       "      <th>RegionID</th>\n",
       "      <th>RegionName</th>\n",
       "      <th>City</th>\n",
       "      <th>State</th>\n",
       "      <th>Metro</th>\n",
       "      <th>CountyName</th>\n",
       "      <th>SizeRank</th>\n",
       "      <th>1996-04</th>\n",
       "      <th>1996-05</th>\n",
       "      <th>1996-06</th>\n",
       "      <th>...</th>\n",
       "      <th>2017-07</th>\n",
       "      <th>2017-08</th>\n",
       "      <th>2017-09</th>\n",
       "      <th>2017-10</th>\n",
       "      <th>2017-11</th>\n",
       "      <th>2017-12</th>\n",
       "      <th>2018-01</th>\n",
       "      <th>2018-02</th>\n",
       "      <th>2018-03</th>\n",
       "      <th>2018-04</th>\n",
       "    </tr>\n",
       "  </thead>\n",
       "  <tbody>\n",
       "    <tr>\n",
       "      <th>0</th>\n",
       "      <td>84654</td>\n",
       "      <td>60657</td>\n",
       "      <td>Chicago</td>\n",
       "      <td>IL</td>\n",
       "      <td>Chicago</td>\n",
       "      <td>Cook</td>\n",
       "      <td>1</td>\n",
       "      <td>334200.0</td>\n",
       "      <td>335400.0</td>\n",
       "      <td>336500.0</td>\n",
       "      <td>...</td>\n",
       "      <td>1005500</td>\n",
       "      <td>1007500</td>\n",
       "      <td>1007800</td>\n",
       "      <td>1009600</td>\n",
       "      <td>1013300</td>\n",
       "      <td>1018700</td>\n",
       "      <td>1024400</td>\n",
       "      <td>1030700</td>\n",
       "      <td>1033800</td>\n",
       "      <td>1030600</td>\n",
       "    </tr>\n",
       "    <tr>\n",
       "      <th>1</th>\n",
       "      <td>90668</td>\n",
       "      <td>75070</td>\n",
       "      <td>McKinney</td>\n",
       "      <td>TX</td>\n",
       "      <td>Dallas-Fort Worth</td>\n",
       "      <td>Collin</td>\n",
       "      <td>2</td>\n",
       "      <td>235700.0</td>\n",
       "      <td>236900.0</td>\n",
       "      <td>236700.0</td>\n",
       "      <td>...</td>\n",
       "      <td>308000</td>\n",
       "      <td>310000</td>\n",
       "      <td>312500</td>\n",
       "      <td>314100</td>\n",
       "      <td>315000</td>\n",
       "      <td>316600</td>\n",
       "      <td>318100</td>\n",
       "      <td>319600</td>\n",
       "      <td>321100</td>\n",
       "      <td>321800</td>\n",
       "    </tr>\n",
       "    <tr>\n",
       "      <th>2</th>\n",
       "      <td>91982</td>\n",
       "      <td>77494</td>\n",
       "      <td>Katy</td>\n",
       "      <td>TX</td>\n",
       "      <td>Houston</td>\n",
       "      <td>Harris</td>\n",
       "      <td>3</td>\n",
       "      <td>210400.0</td>\n",
       "      <td>212200.0</td>\n",
       "      <td>212200.0</td>\n",
       "      <td>...</td>\n",
       "      <td>321000</td>\n",
       "      <td>320600</td>\n",
       "      <td>320200</td>\n",
       "      <td>320400</td>\n",
       "      <td>320800</td>\n",
       "      <td>321200</td>\n",
       "      <td>321200</td>\n",
       "      <td>323000</td>\n",
       "      <td>326900</td>\n",
       "      <td>329900</td>\n",
       "    </tr>\n",
       "    <tr>\n",
       "      <th>3</th>\n",
       "      <td>84616</td>\n",
       "      <td>60614</td>\n",
       "      <td>Chicago</td>\n",
       "      <td>IL</td>\n",
       "      <td>Chicago</td>\n",
       "      <td>Cook</td>\n",
       "      <td>4</td>\n",
       "      <td>498100.0</td>\n",
       "      <td>500900.0</td>\n",
       "      <td>503100.0</td>\n",
       "      <td>...</td>\n",
       "      <td>1289800</td>\n",
       "      <td>1287700</td>\n",
       "      <td>1287400</td>\n",
       "      <td>1291500</td>\n",
       "      <td>1296600</td>\n",
       "      <td>1299000</td>\n",
       "      <td>1302700</td>\n",
       "      <td>1306400</td>\n",
       "      <td>1308500</td>\n",
       "      <td>1307000</td>\n",
       "    </tr>\n",
       "    <tr>\n",
       "      <th>4</th>\n",
       "      <td>93144</td>\n",
       "      <td>79936</td>\n",
       "      <td>El Paso</td>\n",
       "      <td>TX</td>\n",
       "      <td>El Paso</td>\n",
       "      <td>El Paso</td>\n",
       "      <td>5</td>\n",
       "      <td>77300.0</td>\n",
       "      <td>77300.0</td>\n",
       "      <td>77300.0</td>\n",
       "      <td>...</td>\n",
       "      <td>119100</td>\n",
       "      <td>119400</td>\n",
       "      <td>120000</td>\n",
       "      <td>120300</td>\n",
       "      <td>120300</td>\n",
       "      <td>120300</td>\n",
       "      <td>120300</td>\n",
       "      <td>120500</td>\n",
       "      <td>121000</td>\n",
       "      <td>121500</td>\n",
       "    </tr>\n",
       "  </tbody>\n",
       "</table>\n",
       "<p>5 rows × 272 columns</p>\n",
       "</div>"
      ],
      "text/plain": [
       "   RegionID  RegionName      City State              Metro CountyName  \\\n",
       "0     84654       60657   Chicago    IL            Chicago       Cook   \n",
       "1     90668       75070  McKinney    TX  Dallas-Fort Worth     Collin   \n",
       "2     91982       77494      Katy    TX            Houston     Harris   \n",
       "3     84616       60614   Chicago    IL            Chicago       Cook   \n",
       "4     93144       79936   El Paso    TX            El Paso    El Paso   \n",
       "\n",
       "   SizeRank   1996-04   1996-05   1996-06  ...  2017-07  2017-08  2017-09  \\\n",
       "0         1  334200.0  335400.0  336500.0  ...  1005500  1007500  1007800   \n",
       "1         2  235700.0  236900.0  236700.0  ...   308000   310000   312500   \n",
       "2         3  210400.0  212200.0  212200.0  ...   321000   320600   320200   \n",
       "3         4  498100.0  500900.0  503100.0  ...  1289800  1287700  1287400   \n",
       "4         5   77300.0   77300.0   77300.0  ...   119100   119400   120000   \n",
       "\n",
       "   2017-10  2017-11  2017-12  2018-01  2018-02  2018-03  2018-04  \n",
       "0  1009600  1013300  1018700  1024400  1030700  1033800  1030600  \n",
       "1   314100   315000   316600   318100   319600   321100   321800  \n",
       "2   320400   320800   321200   321200   323000   326900   329900  \n",
       "3  1291500  1296600  1299000  1302700  1306400  1308500  1307000  \n",
       "4   120300   120300   120300   120300   120500   121000   121500  \n",
       "\n",
       "[5 rows x 272 columns]"
      ]
     },
     "execution_count": 3,
     "metadata": {},
     "output_type": "execute_result"
    }
   ],
   "source": [
    "data.head()"
   ]
  },
  {
   "cell_type": "markdown",
   "id": "9ccd09ad",
   "metadata": {},
   "source": [
    "##### Displaying last five rows"
   ]
  },
  {
   "cell_type": "code",
   "execution_count": 4,
   "id": "b4342748",
   "metadata": {},
   "outputs": [
    {
     "data": {
      "text/html": [
       "<div>\n",
       "<style scoped>\n",
       "    .dataframe tbody tr th:only-of-type {\n",
       "        vertical-align: middle;\n",
       "    }\n",
       "\n",
       "    .dataframe tbody tr th {\n",
       "        vertical-align: top;\n",
       "    }\n",
       "\n",
       "    .dataframe thead th {\n",
       "        text-align: right;\n",
       "    }\n",
       "</style>\n",
       "<table border=\"1\" class=\"dataframe\">\n",
       "  <thead>\n",
       "    <tr style=\"text-align: right;\">\n",
       "      <th></th>\n",
       "      <th>RegionID</th>\n",
       "      <th>RegionName</th>\n",
       "      <th>City</th>\n",
       "      <th>State</th>\n",
       "      <th>Metro</th>\n",
       "      <th>CountyName</th>\n",
       "      <th>SizeRank</th>\n",
       "      <th>1996-04</th>\n",
       "      <th>1996-05</th>\n",
       "      <th>1996-06</th>\n",
       "      <th>...</th>\n",
       "      <th>2017-07</th>\n",
       "      <th>2017-08</th>\n",
       "      <th>2017-09</th>\n",
       "      <th>2017-10</th>\n",
       "      <th>2017-11</th>\n",
       "      <th>2017-12</th>\n",
       "      <th>2018-01</th>\n",
       "      <th>2018-02</th>\n",
       "      <th>2018-03</th>\n",
       "      <th>2018-04</th>\n",
       "    </tr>\n",
       "  </thead>\n",
       "  <tbody>\n",
       "    <tr>\n",
       "      <th>14718</th>\n",
       "      <td>58333</td>\n",
       "      <td>1338</td>\n",
       "      <td>Ashfield</td>\n",
       "      <td>MA</td>\n",
       "      <td>Greenfield Town</td>\n",
       "      <td>Franklin</td>\n",
       "      <td>14719</td>\n",
       "      <td>94600.0</td>\n",
       "      <td>94300.0</td>\n",
       "      <td>94000.0</td>\n",
       "      <td>...</td>\n",
       "      <td>216800</td>\n",
       "      <td>217700</td>\n",
       "      <td>218600</td>\n",
       "      <td>218500</td>\n",
       "      <td>218100</td>\n",
       "      <td>216400</td>\n",
       "      <td>213100</td>\n",
       "      <td>209800</td>\n",
       "      <td>209200</td>\n",
       "      <td>209300</td>\n",
       "    </tr>\n",
       "    <tr>\n",
       "      <th>14719</th>\n",
       "      <td>59107</td>\n",
       "      <td>3293</td>\n",
       "      <td>Woodstock</td>\n",
       "      <td>NH</td>\n",
       "      <td>Claremont</td>\n",
       "      <td>Grafton</td>\n",
       "      <td>14720</td>\n",
       "      <td>92700.0</td>\n",
       "      <td>92500.0</td>\n",
       "      <td>92400.0</td>\n",
       "      <td>...</td>\n",
       "      <td>202100</td>\n",
       "      <td>208400</td>\n",
       "      <td>212200</td>\n",
       "      <td>215200</td>\n",
       "      <td>214300</td>\n",
       "      <td>213100</td>\n",
       "      <td>213700</td>\n",
       "      <td>218300</td>\n",
       "      <td>222700</td>\n",
       "      <td>225800</td>\n",
       "    </tr>\n",
       "    <tr>\n",
       "      <th>14720</th>\n",
       "      <td>75672</td>\n",
       "      <td>40404</td>\n",
       "      <td>Berea</td>\n",
       "      <td>KY</td>\n",
       "      <td>Richmond</td>\n",
       "      <td>Madison</td>\n",
       "      <td>14721</td>\n",
       "      <td>57100.0</td>\n",
       "      <td>57300.0</td>\n",
       "      <td>57500.0</td>\n",
       "      <td>...</td>\n",
       "      <td>121800</td>\n",
       "      <td>122800</td>\n",
       "      <td>124600</td>\n",
       "      <td>126700</td>\n",
       "      <td>128800</td>\n",
       "      <td>130600</td>\n",
       "      <td>131700</td>\n",
       "      <td>132500</td>\n",
       "      <td>133000</td>\n",
       "      <td>133400</td>\n",
       "    </tr>\n",
       "    <tr>\n",
       "      <th>14721</th>\n",
       "      <td>93733</td>\n",
       "      <td>81225</td>\n",
       "      <td>Mount Crested Butte</td>\n",
       "      <td>CO</td>\n",
       "      <td>NaN</td>\n",
       "      <td>Gunnison</td>\n",
       "      <td>14722</td>\n",
       "      <td>191100.0</td>\n",
       "      <td>192400.0</td>\n",
       "      <td>193700.0</td>\n",
       "      <td>...</td>\n",
       "      <td>662800</td>\n",
       "      <td>671200</td>\n",
       "      <td>682400</td>\n",
       "      <td>695600</td>\n",
       "      <td>695500</td>\n",
       "      <td>694700</td>\n",
       "      <td>706400</td>\n",
       "      <td>705300</td>\n",
       "      <td>681500</td>\n",
       "      <td>664400</td>\n",
       "    </tr>\n",
       "    <tr>\n",
       "      <th>14722</th>\n",
       "      <td>95851</td>\n",
       "      <td>89155</td>\n",
       "      <td>Mesquite</td>\n",
       "      <td>NV</td>\n",
       "      <td>Las Vegas</td>\n",
       "      <td>Clark</td>\n",
       "      <td>14723</td>\n",
       "      <td>176400.0</td>\n",
       "      <td>176300.0</td>\n",
       "      <td>176100.0</td>\n",
       "      <td>...</td>\n",
       "      <td>333800</td>\n",
       "      <td>336400</td>\n",
       "      <td>339700</td>\n",
       "      <td>343800</td>\n",
       "      <td>346800</td>\n",
       "      <td>348900</td>\n",
       "      <td>350400</td>\n",
       "      <td>353000</td>\n",
       "      <td>356000</td>\n",
       "      <td>357200</td>\n",
       "    </tr>\n",
       "  </tbody>\n",
       "</table>\n",
       "<p>5 rows × 272 columns</p>\n",
       "</div>"
      ],
      "text/plain": [
       "       RegionID  RegionName                 City State            Metro  \\\n",
       "14718     58333        1338             Ashfield    MA  Greenfield Town   \n",
       "14719     59107        3293            Woodstock    NH        Claremont   \n",
       "14720     75672       40404                Berea    KY         Richmond   \n",
       "14721     93733       81225  Mount Crested Butte    CO              NaN   \n",
       "14722     95851       89155             Mesquite    NV        Las Vegas   \n",
       "\n",
       "      CountyName  SizeRank   1996-04   1996-05   1996-06  ...  2017-07  \\\n",
       "14718   Franklin     14719   94600.0   94300.0   94000.0  ...   216800   \n",
       "14719    Grafton     14720   92700.0   92500.0   92400.0  ...   202100   \n",
       "14720    Madison     14721   57100.0   57300.0   57500.0  ...   121800   \n",
       "14721   Gunnison     14722  191100.0  192400.0  193700.0  ...   662800   \n",
       "14722      Clark     14723  176400.0  176300.0  176100.0  ...   333800   \n",
       "\n",
       "       2017-08  2017-09  2017-10  2017-11  2017-12  2018-01  2018-02  2018-03  \\\n",
       "14718   217700   218600   218500   218100   216400   213100   209800   209200   \n",
       "14719   208400   212200   215200   214300   213100   213700   218300   222700   \n",
       "14720   122800   124600   126700   128800   130600   131700   132500   133000   \n",
       "14721   671200   682400   695600   695500   694700   706400   705300   681500   \n",
       "14722   336400   339700   343800   346800   348900   350400   353000   356000   \n",
       "\n",
       "       2018-04  \n",
       "14718   209300  \n",
       "14719   225800  \n",
       "14720   133400  \n",
       "14721   664400  \n",
       "14722   357200  \n",
       "\n",
       "[5 rows x 272 columns]"
      ]
     },
     "execution_count": 4,
     "metadata": {},
     "output_type": "execute_result"
    }
   ],
   "source": [
    "data.tail()"
   ]
  },
  {
   "cell_type": "markdown",
   "id": "2d5f2930",
   "metadata": {},
   "source": [
    "The number of columns(272) in the last and first five rows is the same implying consistency in our dataset"
   ]
  },
  {
   "cell_type": "code",
   "execution_count": 5,
   "id": "93110a51",
   "metadata": {},
   "outputs": [
    {
     "name": "stdout",
     "output_type": "stream",
     "text": [
      "Number of rows: 14723\n",
      "Number of columns: 272\n"
     ]
    }
   ],
   "source": [
    "# Checking the shape of dataset\n",
    "print('Number of rows:',data.shape[0])\n",
    "print('Number of columns:',data.shape[1])"
   ]
  },
  {
   "cell_type": "markdown",
   "id": "ddfd9cea",
   "metadata": {},
   "source": [
    "The dataset has 14723 rows and 272 columns. "
   ]
  },
  {
   "cell_type": "code",
   "execution_count": 6,
   "id": "68cbeb38",
   "metadata": {},
   "outputs": [
    {
     "name": "stdout",
     "output_type": "stream",
     "text": [
      "<class 'pandas.core.frame.DataFrame'>\n",
      "RangeIndex: 14723 entries, 0 to 14722\n",
      "Columns: 272 entries, RegionID to 2018-04\n",
      "dtypes: float64(219), int64(49), object(4)\n",
      "memory usage: 30.6+ MB\n"
     ]
    }
   ],
   "source": [
    "# Checking for Datatypes\n",
    "data.info()"
   ]
  },
  {
   "cell_type": "code",
   "execution_count": 7,
   "id": "95554f40",
   "metadata": {},
   "outputs": [
    {
     "data": {
      "text/plain": [
       "Index(['RegionID', 'RegionName', 'City', 'State', 'Metro', 'CountyName',\n",
       "       'SizeRank', '1996-04', '1996-05', '1996-06',\n",
       "       ...\n",
       "       '2017-07', '2017-08', '2017-09', '2017-10', '2017-11', '2017-12',\n",
       "       '2018-01', '2018-02', '2018-03', '2018-04'],\n",
       "      dtype='object', length=272)"
      ]
     },
     "execution_count": 7,
     "metadata": {},
     "output_type": "execute_result"
    }
   ],
   "source": [
    "# Checking Columns\n",
    "data.columns"
   ]
  },
  {
   "cell_type": "code",
   "execution_count": 8,
   "id": "afa5c75a",
   "metadata": {},
   "outputs": [
    {
     "data": {
      "text/html": [
       "<div>\n",
       "<style scoped>\n",
       "    .dataframe tbody tr th:only-of-type {\n",
       "        vertical-align: middle;\n",
       "    }\n",
       "\n",
       "    .dataframe tbody tr th {\n",
       "        vertical-align: top;\n",
       "    }\n",
       "\n",
       "    .dataframe thead th {\n",
       "        text-align: right;\n",
       "    }\n",
       "</style>\n",
       "<table border=\"1\" class=\"dataframe\">\n",
       "  <thead>\n",
       "    <tr style=\"text-align: right;\">\n",
       "      <th></th>\n",
       "      <th>Columns</th>\n",
       "      <th>Description</th>\n",
       "    </tr>\n",
       "  </thead>\n",
       "  <tbody>\n",
       "    <tr>\n",
       "      <th>0</th>\n",
       "      <td>RegionID</td>\n",
       "      <td>Unique region identifier</td>\n",
       "    </tr>\n",
       "    <tr>\n",
       "      <th>1</th>\n",
       "      <td>RegionName</td>\n",
       "      <td>Names of the Regions (Zipcodes)</td>\n",
       "    </tr>\n",
       "    <tr>\n",
       "      <th>2</th>\n",
       "      <td>City</td>\n",
       "      <td>City names for the regions</td>\n",
       "    </tr>\n",
       "    <tr>\n",
       "      <th>3</th>\n",
       "      <td>State</td>\n",
       "      <td>Names of the states</td>\n",
       "    </tr>\n",
       "    <tr>\n",
       "      <th>4</th>\n",
       "      <td>Metro</td>\n",
       "      <td>Names of metropolitan areas</td>\n",
       "    </tr>\n",
       "    <tr>\n",
       "      <th>5</th>\n",
       "      <td>County Name</td>\n",
       "      <td>Names of counties</td>\n",
       "    </tr>\n",
       "    <tr>\n",
       "      <th>6</th>\n",
       "      <td>Size Rank</td>\n",
       "      <td>Rank of Zipcodes by urbanization</td>\n",
       "    </tr>\n",
       "    <tr>\n",
       "      <th>7</th>\n",
       "      <td>Date Columns (265 Columns)</td>\n",
       "      <td>Median house prices across the years</td>\n",
       "    </tr>\n",
       "  </tbody>\n",
       "</table>\n",
       "</div>"
      ],
      "text/plain": [
       "                      Columns                           Description\n",
       "0                    RegionID              Unique region identifier\n",
       "1                  RegionName       Names of the Regions (Zipcodes)\n",
       "2                        City            City names for the regions\n",
       "3                       State                   Names of the states\n",
       "4                       Metro           Names of metropolitan areas\n",
       "5                 County Name                     Names of counties\n",
       "6                   Size Rank      Rank of Zipcodes by urbanization\n",
       "7  Date Columns (265 Columns)  Median house prices across the years"
      ]
     },
     "execution_count": 8,
     "metadata": {},
     "output_type": "execute_result"
    }
   ],
   "source": [
    "# Description of the columns\n",
    "columns = {'Columns': ['RegionID','RegionName','City','State','Metro','County Name','Size Rank','Date Columns (265 Columns)'],\n",
    "'Description':['Unique region identifier','Names of the Regions (Zipcodes)','City names for the regions',\n",
    "               'Names of the states','Names of metropolitan areas','Names of counties','Rank of Zipcodes by urbanization',\n",
    "              'Median house prices across the years']}\n",
    "pd.DataFrame(columns)"
   ]
  },
  {
   "cell_type": "code",
   "execution_count": 9,
   "id": "4fa9b273",
   "metadata": {},
   "outputs": [
    {
     "data": {
      "text/html": [
       "<div>\n",
       "<style scoped>\n",
       "    .dataframe tbody tr th:only-of-type {\n",
       "        vertical-align: middle;\n",
       "    }\n",
       "\n",
       "    .dataframe tbody tr th {\n",
       "        vertical-align: top;\n",
       "    }\n",
       "\n",
       "    .dataframe thead th {\n",
       "        text-align: right;\n",
       "    }\n",
       "</style>\n",
       "<table border=\"1\" class=\"dataframe\">\n",
       "  <thead>\n",
       "    <tr style=\"text-align: right;\">\n",
       "      <th></th>\n",
       "      <th>count</th>\n",
       "      <th>mean</th>\n",
       "      <th>std</th>\n",
       "      <th>min</th>\n",
       "      <th>25%</th>\n",
       "      <th>50%</th>\n",
       "      <th>75%</th>\n",
       "      <th>max</th>\n",
       "    </tr>\n",
       "  </thead>\n",
       "  <tbody>\n",
       "    <tr>\n",
       "      <th>RegionID</th>\n",
       "      <td>14723.0</td>\n",
       "      <td>81075.010052</td>\n",
       "      <td>31934.118525</td>\n",
       "      <td>58196.0</td>\n",
       "      <td>67174.5</td>\n",
       "      <td>78007.0</td>\n",
       "      <td>90920.5</td>\n",
       "      <td>753844.0</td>\n",
       "    </tr>\n",
       "    <tr>\n",
       "      <th>RegionName</th>\n",
       "      <td>14723.0</td>\n",
       "      <td>48222.348706</td>\n",
       "      <td>29359.325439</td>\n",
       "      <td>1001.0</td>\n",
       "      <td>22101.5</td>\n",
       "      <td>46106.0</td>\n",
       "      <td>75205.5</td>\n",
       "      <td>99901.0</td>\n",
       "    </tr>\n",
       "    <tr>\n",
       "      <th>SizeRank</th>\n",
       "      <td>14723.0</td>\n",
       "      <td>7362.000000</td>\n",
       "      <td>4250.308342</td>\n",
       "      <td>1.0</td>\n",
       "      <td>3681.5</td>\n",
       "      <td>7362.0</td>\n",
       "      <td>11042.5</td>\n",
       "      <td>14723.0</td>\n",
       "    </tr>\n",
       "    <tr>\n",
       "      <th>1996-04</th>\n",
       "      <td>13684.0</td>\n",
       "      <td>118299.123063</td>\n",
       "      <td>86002.509608</td>\n",
       "      <td>11300.0</td>\n",
       "      <td>68800.0</td>\n",
       "      <td>99500.0</td>\n",
       "      <td>143200.0</td>\n",
       "      <td>3676700.0</td>\n",
       "    </tr>\n",
       "    <tr>\n",
       "      <th>1996-05</th>\n",
       "      <td>13684.0</td>\n",
       "      <td>118419.044139</td>\n",
       "      <td>86155.673905</td>\n",
       "      <td>11500.0</td>\n",
       "      <td>68900.0</td>\n",
       "      <td>99500.0</td>\n",
       "      <td>143300.0</td>\n",
       "      <td>3704200.0</td>\n",
       "    </tr>\n",
       "    <tr>\n",
       "      <th>...</th>\n",
       "      <td>...</td>\n",
       "      <td>...</td>\n",
       "      <td>...</td>\n",
       "      <td>...</td>\n",
       "      <td>...</td>\n",
       "      <td>...</td>\n",
       "      <td>...</td>\n",
       "      <td>...</td>\n",
       "    </tr>\n",
       "    <tr>\n",
       "      <th>2017-12</th>\n",
       "      <td>14723.0</td>\n",
       "      <td>281095.320247</td>\n",
       "      <td>367045.388033</td>\n",
       "      <td>14300.0</td>\n",
       "      <td>129900.0</td>\n",
       "      <td>193400.0</td>\n",
       "      <td>313400.0</td>\n",
       "      <td>18307100.0</td>\n",
       "    </tr>\n",
       "    <tr>\n",
       "      <th>2018-01</th>\n",
       "      <td>14723.0</td>\n",
       "      <td>282657.060382</td>\n",
       "      <td>369572.741938</td>\n",
       "      <td>14100.0</td>\n",
       "      <td>130600.0</td>\n",
       "      <td>194100.0</td>\n",
       "      <td>315100.0</td>\n",
       "      <td>18365900.0</td>\n",
       "    </tr>\n",
       "    <tr>\n",
       "      <th>2018-02</th>\n",
       "      <td>14723.0</td>\n",
       "      <td>284368.688447</td>\n",
       "      <td>371773.905107</td>\n",
       "      <td>13900.0</td>\n",
       "      <td>131050.0</td>\n",
       "      <td>195000.0</td>\n",
       "      <td>316850.0</td>\n",
       "      <td>18530400.0</td>\n",
       "    </tr>\n",
       "    <tr>\n",
       "      <th>2018-03</th>\n",
       "      <td>14723.0</td>\n",
       "      <td>286511.376757</td>\n",
       "      <td>372461.234695</td>\n",
       "      <td>13800.0</td>\n",
       "      <td>131950.0</td>\n",
       "      <td>196700.0</td>\n",
       "      <td>318850.0</td>\n",
       "      <td>18337700.0</td>\n",
       "    </tr>\n",
       "    <tr>\n",
       "      <th>2018-04</th>\n",
       "      <td>14723.0</td>\n",
       "      <td>288039.944305</td>\n",
       "      <td>372054.396908</td>\n",
       "      <td>13800.0</td>\n",
       "      <td>132400.0</td>\n",
       "      <td>198100.0</td>\n",
       "      <td>321100.0</td>\n",
       "      <td>17894900.0</td>\n",
       "    </tr>\n",
       "  </tbody>\n",
       "</table>\n",
       "<p>268 rows × 8 columns</p>\n",
       "</div>"
      ],
      "text/plain": [
       "              count           mean            std      min       25%  \\\n",
       "RegionID    14723.0   81075.010052   31934.118525  58196.0   67174.5   \n",
       "RegionName  14723.0   48222.348706   29359.325439   1001.0   22101.5   \n",
       "SizeRank    14723.0    7362.000000    4250.308342      1.0    3681.5   \n",
       "1996-04     13684.0  118299.123063   86002.509608  11300.0   68800.0   \n",
       "1996-05     13684.0  118419.044139   86155.673905  11500.0   68900.0   \n",
       "...             ...            ...            ...      ...       ...   \n",
       "2017-12     14723.0  281095.320247  367045.388033  14300.0  129900.0   \n",
       "2018-01     14723.0  282657.060382  369572.741938  14100.0  130600.0   \n",
       "2018-02     14723.0  284368.688447  371773.905107  13900.0  131050.0   \n",
       "2018-03     14723.0  286511.376757  372461.234695  13800.0  131950.0   \n",
       "2018-04     14723.0  288039.944305  372054.396908  13800.0  132400.0   \n",
       "\n",
       "                 50%       75%         max  \n",
       "RegionID     78007.0   90920.5    753844.0  \n",
       "RegionName   46106.0   75205.5     99901.0  \n",
       "SizeRank      7362.0   11042.5     14723.0  \n",
       "1996-04      99500.0  143200.0   3676700.0  \n",
       "1996-05      99500.0  143300.0   3704200.0  \n",
       "...              ...       ...         ...  \n",
       "2017-12     193400.0  313400.0  18307100.0  \n",
       "2018-01     194100.0  315100.0  18365900.0  \n",
       "2018-02     195000.0  316850.0  18530400.0  \n",
       "2018-03     196700.0  318850.0  18337700.0  \n",
       "2018-04     198100.0  321100.0  17894900.0  \n",
       "\n",
       "[268 rows x 8 columns]"
      ]
     },
     "execution_count": 9,
     "metadata": {},
     "output_type": "execute_result"
    }
   ],
   "source": [
    "# Summary Statistics\n",
    "data.describe().T"
   ]
  },
  {
   "cell_type": "markdown",
   "id": "462f1ad9",
   "metadata": {},
   "source": [
    "#### 2.2 Data Quality from the data description\n",
    "* The dataset has 14723 rows and 272 columns. \n",
    "* The columns have both categorical(4) and numerical data(268)\n",
    "* There are many columns because it is in a wide fromat; the last 265 columns describe the dates of the housing data. \n",
    "\n"
   ]
  },
  {
   "cell_type": "markdown",
   "id": "52a0fb7f",
   "metadata": {},
   "source": [
    "## 3. Data Preparation\n",
    "\n"
   ]
  },
  {
   "cell_type": "markdown",
   "id": "d2447e7a",
   "metadata": {},
   "source": [
    "Inorder to enhance the efficiency of our model, the data has to be inspected and cleaned to align with our objectives. \n",
    "This is to ensure that we do not generate any misleading information from the analysis. This includes Checking for the validity, consistency, completeness and uniformity. "
   ]
  },
  {
   "cell_type": "markdown",
   "id": "3a00eb52",
   "metadata": {},
   "source": [
    "#### 3.1 Data Cleaning"
   ]
  },
  {
   "cell_type": "markdown",
   "id": "5e904a01",
   "metadata": {},
   "source": [
    "#### 3.1.1 Completeness\n",
    "\n",
    "*  Checking and Handling for missing values\n"
   ]
  },
  {
   "cell_type": "code",
   "execution_count": 10,
   "id": "afa75be5",
   "metadata": {},
   "outputs": [
    {
     "name": "stdout",
     "output_type": "stream",
     "text": [
      "The data has 157934 missing values\n"
     ]
    }
   ],
   "source": [
    "# Check for missing values \n",
    "print(f'The data has {data.isna().sum().sum()} missing values')"
   ]
  },
  {
   "cell_type": "code",
   "execution_count": 11,
   "id": "a4e3aa4e",
   "metadata": {},
   "outputs": [
    {
     "name": "stdout",
     "output_type": "stream",
     "text": [
      "The following columns contain these missing values Metro       1043\n",
      "1997-03     1039\n",
      "1996-07     1039\n",
      "1997-06     1039\n",
      "1997-02     1039\n",
      "            ... \n",
      "2015-11        0\n",
      "2015-12        0\n",
      "2016-01        0\n",
      "2016-02        0\n",
      "RegionID       0\n",
      "Length: 272, dtype: int64\n"
     ]
    }
   ],
   "source": [
    "print(f'The following columns contain these missing values {data.isna().sum().sort_values(ascending = False)}')"
   ]
  },
  {
   "cell_type": "code",
   "execution_count": 12,
   "id": "120a354b",
   "metadata": {},
   "outputs": [
    {
     "data": {
      "text/plain": [
       "Metro       7.084154\n",
       "1997-03     7.056986\n",
       "1996-07     7.056986\n",
       "1997-06     7.056986\n",
       "1997-02     7.056986\n",
       "              ...   \n",
       "2015-11     0.000000\n",
       "2015-12     0.000000\n",
       "2016-01     0.000000\n",
       "2016-02     0.000000\n",
       "RegionID    0.000000\n",
       "Length: 272, dtype: float64"
      ]
     },
     "execution_count": 12,
     "metadata": {},
     "output_type": "execute_result"
    }
   ],
   "source": [
    "per_missing_vals = (data.isna().sum())*100/len(data)\n",
    "per_missing_vals.sort_values(ascending=False)"
   ]
  },
  {
   "cell_type": "code",
   "execution_count": 13,
   "id": "3b53dd8f",
   "metadata": {},
   "outputs": [],
   "source": [
    "# Handling the missing values\n",
    "## Fill the `metro` column with the word \"missing\"\n",
    "data['Metro'].fillna('missing', inplace=True)"
   ]
  },
  {
   "cell_type": "code",
   "execution_count": 14,
   "id": "48832fb7",
   "metadata": {},
   "outputs": [
    {
     "data": {
      "text/plain": [
       "1997-02     7.056986\n",
       "1997-04     7.056986\n",
       "1997-05     7.056986\n",
       "1997-01     7.056986\n",
       "1996-12     7.056986\n",
       "              ...   \n",
       "2015-11     0.000000\n",
       "2015-12     0.000000\n",
       "2016-01     0.000000\n",
       "2016-02     0.000000\n",
       "RegionID    0.000000\n",
       "Length: 272, dtype: float64"
      ]
     },
     "execution_count": 14,
     "metadata": {},
     "output_type": "execute_result"
    }
   ],
   "source": [
    "missing_values = data.isna().sum().sort_values(ascending=False)\n",
    "percent = missing_values*100/len(data)\n",
    "percent.sort_values(ascending=False)\n",
    "percent"
   ]
  },
  {
   "cell_type": "code",
   "execution_count": 15,
   "id": "8516bc17",
   "metadata": {},
   "outputs": [],
   "source": [
    "## Handling the date columns' missing values\n",
    "data.interpolate(inplace=True)"
   ]
  },
  {
   "cell_type": "code",
   "execution_count": 16,
   "id": "bbd51634",
   "metadata": {},
   "outputs": [
    {
     "data": {
      "text/plain": [
       "0    272\n",
       "dtype: int64"
      ]
     },
     "execution_count": 16,
     "metadata": {},
     "output_type": "execute_result"
    }
   ],
   "source": [
    "#Check for the missing values again\n",
    "data.isna().sum().value_counts()"
   ]
  },
  {
   "cell_type": "markdown",
   "id": "a00c5597",
   "metadata": {},
   "source": [
    "#### 3.1.2 Validity\n",
    "* Checking for duplicated values \n",
    "* Checking for Outliers in the dataset\n"
   ]
  },
  {
   "cell_type": "code",
   "execution_count": 17,
   "id": "5f6282e4",
   "metadata": {},
   "outputs": [
    {
     "data": {
      "text/plain": [
       "0"
      ]
     },
     "execution_count": 17,
     "metadata": {},
     "output_type": "execute_result"
    }
   ],
   "source": [
    "# Checking for duplicated values  \n",
    "data.duplicated().sum()\n"
   ]
  },
  {
   "cell_type": "markdown",
   "id": "362be2b8",
   "metadata": {},
   "source": [
    "There are no duplicated values in the dataset"
   ]
  },
  {
   "cell_type": "markdown",
   "id": "93dafdef",
   "metadata": {},
   "source": [
    "We  do not check for outliers in the data, as their presence helps improve the accuracy of the model since in real life there are houses that are priced highly above and below the average. "
   ]
  },
  {
   "cell_type": "markdown",
   "id": "690e5cc6",
   "metadata": {},
   "source": [
    "#### 3.1.3 Uniformity\n",
    "* Checking if the column names are uniform \n",
    "* Exploring the columns more\n",
    "* Checking if the data types are relevant to the column description\n"
   ]
  },
  {
   "cell_type": "code",
   "execution_count": 18,
   "id": "d9f1a018",
   "metadata": {},
   "outputs": [
    {
     "data": {
      "text/plain": [
       "Index(['RegionID', 'RegionName', 'City', 'State', 'Metro', 'CountyName',\n",
       "       'SizeRank', '1996-04', '1996-05', '1996-06',\n",
       "       ...\n",
       "       '2017-07', '2017-08', '2017-09', '2017-10', '2017-11', '2017-12',\n",
       "       '2018-01', '2018-02', '2018-03', '2018-04'],\n",
       "      dtype='object', length=272)"
      ]
     },
     "execution_count": 18,
     "metadata": {},
     "output_type": "execute_result"
    }
   ],
   "source": [
    "# Cheking the column names again \n",
    "data.columns"
   ]
  },
  {
   "cell_type": "code",
   "execution_count": 19,
   "id": "8dee769f",
   "metadata": {},
   "outputs": [
    {
     "data": {
      "text/plain": [
       "dtype('int64')"
      ]
     },
     "execution_count": 19,
     "metadata": {},
     "output_type": "execute_result"
    }
   ],
   "source": [
    "# Checking the data type of the RegionName column \n",
    "data.dtypes['RegionName']"
   ]
  },
  {
   "cell_type": "code",
   "execution_count": 20,
   "id": "c30b56c9",
   "metadata": {},
   "outputs": [],
   "source": [
    "# Renaming the RegionName column to Zipcode because the column's data is in numerical form\n",
    "data.rename(columns = {'RegionName': \"Zipcode\"}, inplace=True)"
   ]
  },
  {
   "cell_type": "code",
   "execution_count": 21,
   "id": "9154b0c9",
   "metadata": {},
   "outputs": [],
   "source": [
    "# Changing the data type of the Zipcode column to categorical  \n",
    "data.Zipcode = data.Zipcode.astype('string')"
   ]
  },
  {
   "cell_type": "code",
   "execution_count": 22,
   "id": "684b735b",
   "metadata": {},
   "outputs": [
    {
     "data": {
      "text/plain": [
       "14723"
      ]
     },
     "execution_count": 22,
     "metadata": {},
     "output_type": "execute_result"
    }
   ],
   "source": [
    "# Checking for the unique values in the Zipcode column\n",
    "data.Zipcode.nunique()\n"
   ]
  },
  {
   "cell_type": "markdown",
   "id": "06089cfe",
   "metadata": {},
   "source": [
    "#### Data Construction\n",
    "\n",
    "Here we will  derive new attributes from the data that will be helpful in answering our research questions."
   ]
  },
  {
   "cell_type": "code",
   "execution_count": 23,
   "id": "1a265da2",
   "metadata": {},
   "outputs": [],
   "source": [
    "\n",
    "# calculating and creating a new column -ROI\n",
    "\n",
    "data['22yr_ROI'] = (data['2018-04']/ data['1996-04'])-1\n",
    "data['5yr_ROI'] = ((data['2018-04'] - data['2013-04'])/ data['2013-04'])\n",
    "\n",
    "\n",
    "#calculating std to be used to find CV\n",
    "data[\"std\"] = data.loc[:, \"1996-04\":\"2018-04\"].std(skipna=True, axis=1)\n",
    "data['5yr_std'] = data.loc[:, \"2013-04\":\"2018-04\"].std(skipna=True, axis=1)\n",
    "\n",
    "#calculating mean to be used to find CV\n",
    "data[\"mean\"] = data.loc[:, \"1996-04\":\"2018-04\"].mean(skipna=True, axis=1)\n",
    "data[\"5yr_mean\"] = data.loc[:, \"2013-04\":\"2018-04\"].mean(skipna=True, axis=1)\n",
    "# calculating and creating a new column - CV\n",
    "\n",
    "data[\"22yr_CV\"] = data['std']/data[\"mean\"]\n",
    "data[\"5yr_CV\"] = data['5yr_std']/data[\"5yr_mean\"]\n",
    "\n",
    "# dropping std and mean as they are not necessary for analysis\n",
    "\n",
    "data.drop([\"std\", \"mean\", \"5yr_std\", \"5yr_mean\"], inplace=True, axis=1)"
   ]
  },
  {
   "cell_type": "code",
   "execution_count": 24,
   "id": "64d00f21",
   "metadata": {},
   "outputs": [
    {
     "data": {
      "text/plain": [
       "Index(['RegionID', 'Zipcode', 'City', 'State', 'Metro', 'CountyName',\n",
       "       'SizeRank', '1996-04', '1996-05', '1996-06',\n",
       "       ...\n",
       "       '2017-11', '2017-12', '2018-01', '2018-02', '2018-03', '2018-04',\n",
       "       '22yr_ROI', '5yr_ROI', '22yr_CV', '5yr_CV'],\n",
       "      dtype='object', length=276)"
      ]
     },
     "execution_count": 24,
     "metadata": {},
     "output_type": "execute_result"
    }
   ],
   "source": [
    "data.columns"
   ]
  },
  {
   "cell_type": "markdown",
   "id": "0fb9183a",
   "metadata": {},
   "source": [
    "#### Convert data to Time Series"
   ]
  },
  {
   "cell_type": "code",
   "execution_count": 25,
   "id": "645b1df0",
   "metadata": {},
   "outputs": [],
   "source": [
    "# Create a copy of the dataset to convert into long view while preserving df as a wide view for EDA\n",
    "new_data = data.copy()"
   ]
  },
  {
   "cell_type": "code",
   "execution_count": 26,
   "id": "e3654dfa",
   "metadata": {},
   "outputs": [],
   "source": [
    "# creating a function that changes the dataframe structure from wide view to long view\n",
    "\n",
    "def melt_df(data):\n",
    "    melted = pd.melt(data, id_vars=['RegionID','Zipcode', 'City', 'State', 'Metro', 'CountyName', 'SizeRank','22yr_ROI','22yr_CV','5yr_ROI','5yr_CV' ], var_name='Date')\n",
    "    melted['Date'] = pd.to_datetime(melted['Date'], infer_datetime_format=True)\n",
    "    melted = melted.dropna(subset=['value'])\n",
    "    return melted"
   ]
  },
  {
   "cell_type": "code",
   "execution_count": 27,
   "id": "c5ac9c05",
   "metadata": {},
   "outputs": [],
   "source": [
    "# Loading the melted dataset\n",
    "\n",
    "new_data = melt_df(new_data)\n"
   ]
  },
  {
   "cell_type": "code",
   "execution_count": 28,
   "id": "dab965fe",
   "metadata": {},
   "outputs": [
    {
     "data": {
      "text/html": [
       "<div>\n",
       "<style scoped>\n",
       "    .dataframe tbody tr th:only-of-type {\n",
       "        vertical-align: middle;\n",
       "    }\n",
       "\n",
       "    .dataframe tbody tr th {\n",
       "        vertical-align: top;\n",
       "    }\n",
       "\n",
       "    .dataframe thead th {\n",
       "        text-align: right;\n",
       "    }\n",
       "</style>\n",
       "<table border=\"1\" class=\"dataframe\">\n",
       "  <thead>\n",
       "    <tr style=\"text-align: right;\">\n",
       "      <th></th>\n",
       "      <th>RegionID</th>\n",
       "      <th>Zipcode</th>\n",
       "      <th>City</th>\n",
       "      <th>State</th>\n",
       "      <th>Metro</th>\n",
       "      <th>CountyName</th>\n",
       "      <th>SizeRank</th>\n",
       "      <th>22yr_ROI</th>\n",
       "      <th>22yr_CV</th>\n",
       "      <th>5yr_ROI</th>\n",
       "      <th>5yr_CV</th>\n",
       "      <th>Date</th>\n",
       "      <th>value</th>\n",
       "    </tr>\n",
       "  </thead>\n",
       "  <tbody>\n",
       "    <tr>\n",
       "      <th>0</th>\n",
       "      <td>84654</td>\n",
       "      <td>60657</td>\n",
       "      <td>Chicago</td>\n",
       "      <td>IL</td>\n",
       "      <td>Chicago</td>\n",
       "      <td>Cook</td>\n",
       "      <td>1</td>\n",
       "      <td>2.083782</td>\n",
       "      <td>0.256487</td>\n",
       "      <td>0.260827</td>\n",
       "      <td>0.066302</td>\n",
       "      <td>1996-04-01</td>\n",
       "      <td>334200.0</td>\n",
       "    </tr>\n",
       "    <tr>\n",
       "      <th>1</th>\n",
       "      <td>90668</td>\n",
       "      <td>75070</td>\n",
       "      <td>McKinney</td>\n",
       "      <td>TX</td>\n",
       "      <td>Dallas-Fort Worth</td>\n",
       "      <td>Collin</td>\n",
       "      <td>2</td>\n",
       "      <td>0.365295</td>\n",
       "      <td>0.152680</td>\n",
       "      <td>0.533842</td>\n",
       "      <td>0.124597</td>\n",
       "      <td>1996-04-01</td>\n",
       "      <td>235700.0</td>\n",
       "    </tr>\n",
       "    <tr>\n",
       "      <th>2</th>\n",
       "      <td>91982</td>\n",
       "      <td>77494</td>\n",
       "      <td>Katy</td>\n",
       "      <td>TX</td>\n",
       "      <td>Houston</td>\n",
       "      <td>Harris</td>\n",
       "      <td>3</td>\n",
       "      <td>0.567966</td>\n",
       "      <td>0.143950</td>\n",
       "      <td>0.283158</td>\n",
       "      <td>0.072385</td>\n",
       "      <td>1996-04-01</td>\n",
       "      <td>210400.0</td>\n",
       "    </tr>\n",
       "    <tr>\n",
       "      <th>3</th>\n",
       "      <td>84616</td>\n",
       "      <td>60614</td>\n",
       "      <td>Chicago</td>\n",
       "      <td>IL</td>\n",
       "      <td>Chicago</td>\n",
       "      <td>Cook</td>\n",
       "      <td>4</td>\n",
       "      <td>1.623971</td>\n",
       "      <td>0.237364</td>\n",
       "      <td>0.258788</td>\n",
       "      <td>0.056243</td>\n",
       "      <td>1996-04-01</td>\n",
       "      <td>498100.0</td>\n",
       "    </tr>\n",
       "    <tr>\n",
       "      <th>4</th>\n",
       "      <td>93144</td>\n",
       "      <td>79936</td>\n",
       "      <td>El Paso</td>\n",
       "      <td>TX</td>\n",
       "      <td>El Paso</td>\n",
       "      <td>El Paso</td>\n",
       "      <td>5</td>\n",
       "      <td>0.571798</td>\n",
       "      <td>0.178326</td>\n",
       "      <td>0.070485</td>\n",
       "      <td>0.023086</td>\n",
       "      <td>1996-04-01</td>\n",
       "      <td>77300.0</td>\n",
       "    </tr>\n",
       "  </tbody>\n",
       "</table>\n",
       "</div>"
      ],
      "text/plain": [
       "   RegionID Zipcode      City State              Metro CountyName  SizeRank  \\\n",
       "0     84654   60657   Chicago    IL            Chicago       Cook         1   \n",
       "1     90668   75070  McKinney    TX  Dallas-Fort Worth     Collin         2   \n",
       "2     91982   77494      Katy    TX            Houston     Harris         3   \n",
       "3     84616   60614   Chicago    IL            Chicago       Cook         4   \n",
       "4     93144   79936   El Paso    TX            El Paso    El Paso         5   \n",
       "\n",
       "   22yr_ROI   22yr_CV   5yr_ROI    5yr_CV       Date     value  \n",
       "0  2.083782  0.256487  0.260827  0.066302 1996-04-01  334200.0  \n",
       "1  0.365295  0.152680  0.533842  0.124597 1996-04-01  235700.0  \n",
       "2  0.567966  0.143950  0.283158  0.072385 1996-04-01  210400.0  \n",
       "3  1.623971  0.237364  0.258788  0.056243 1996-04-01  498100.0  \n",
       "4  0.571798  0.178326  0.070485  0.023086 1996-04-01   77300.0  "
      ]
     },
     "execution_count": 28,
     "metadata": {},
     "output_type": "execute_result"
    }
   ],
   "source": [
    "# First five rows of the melted dataset\n",
    "\n",
    "new_data.head()"
   ]
  },
  {
   "cell_type": "code",
   "execution_count": 29,
   "id": "492bd13b",
   "metadata": {},
   "outputs": [
    {
     "data": {
      "text/html": [
       "<div>\n",
       "<style scoped>\n",
       "    .dataframe tbody tr th:only-of-type {\n",
       "        vertical-align: middle;\n",
       "    }\n",
       "\n",
       "    .dataframe tbody tr th {\n",
       "        vertical-align: top;\n",
       "    }\n",
       "\n",
       "    .dataframe thead th {\n",
       "        text-align: right;\n",
       "    }\n",
       "</style>\n",
       "<table border=\"1\" class=\"dataframe\">\n",
       "  <thead>\n",
       "    <tr style=\"text-align: right;\">\n",
       "      <th></th>\n",
       "      <th>RegionID</th>\n",
       "      <th>Zipcode</th>\n",
       "      <th>City</th>\n",
       "      <th>State</th>\n",
       "      <th>Metro</th>\n",
       "      <th>CountyName</th>\n",
       "      <th>SizeRank</th>\n",
       "      <th>22yr_ROI</th>\n",
       "      <th>22yr_CV</th>\n",
       "      <th>5yr_ROI</th>\n",
       "      <th>5yr_CV</th>\n",
       "      <th>Date</th>\n",
       "      <th>value</th>\n",
       "    </tr>\n",
       "  </thead>\n",
       "  <tbody>\n",
       "    <tr>\n",
       "      <th>3901590</th>\n",
       "      <td>58333</td>\n",
       "      <td>1338</td>\n",
       "      <td>Ashfield</td>\n",
       "      <td>MA</td>\n",
       "      <td>Greenfield Town</td>\n",
       "      <td>Franklin</td>\n",
       "      <td>14719</td>\n",
       "      <td>1.212474</td>\n",
       "      <td>0.232707</td>\n",
       "      <td>0.164719</td>\n",
       "      <td>0.058640</td>\n",
       "      <td>2018-04-01</td>\n",
       "      <td>209300.0</td>\n",
       "    </tr>\n",
       "    <tr>\n",
       "      <th>3901591</th>\n",
       "      <td>59107</td>\n",
       "      <td>3293</td>\n",
       "      <td>Woodstock</td>\n",
       "      <td>NH</td>\n",
       "      <td>Claremont</td>\n",
       "      <td>Grafton</td>\n",
       "      <td>14720</td>\n",
       "      <td>1.435814</td>\n",
       "      <td>0.303073</td>\n",
       "      <td>0.320468</td>\n",
       "      <td>0.065721</td>\n",
       "      <td>2018-04-01</td>\n",
       "      <td>225800.0</td>\n",
       "    </tr>\n",
       "    <tr>\n",
       "      <th>3901592</th>\n",
       "      <td>75672</td>\n",
       "      <td>40404</td>\n",
       "      <td>Berea</td>\n",
       "      <td>KY</td>\n",
       "      <td>Richmond</td>\n",
       "      <td>Madison</td>\n",
       "      <td>14721</td>\n",
       "      <td>1.336252</td>\n",
       "      <td>0.182705</td>\n",
       "      <td>0.351570</td>\n",
       "      <td>0.085981</td>\n",
       "      <td>2018-04-01</td>\n",
       "      <td>133400.0</td>\n",
       "    </tr>\n",
       "    <tr>\n",
       "      <th>3901593</th>\n",
       "      <td>93733</td>\n",
       "      <td>81225</td>\n",
       "      <td>Mount Crested Butte</td>\n",
       "      <td>CO</td>\n",
       "      <td>missing</td>\n",
       "      <td>Gunnison</td>\n",
       "      <td>14722</td>\n",
       "      <td>2.476714</td>\n",
       "      <td>0.282105</td>\n",
       "      <td>0.250753</td>\n",
       "      <td>0.096821</td>\n",
       "      <td>2018-04-01</td>\n",
       "      <td>664400.0</td>\n",
       "    </tr>\n",
       "    <tr>\n",
       "      <th>3901594</th>\n",
       "      <td>95851</td>\n",
       "      <td>89155</td>\n",
       "      <td>Mesquite</td>\n",
       "      <td>NV</td>\n",
       "      <td>Las Vegas</td>\n",
       "      <td>Clark</td>\n",
       "      <td>14723</td>\n",
       "      <td>1.024943</td>\n",
       "      <td>0.310044</td>\n",
       "      <td>0.546990</td>\n",
       "      <td>0.107277</td>\n",
       "      <td>2018-04-01</td>\n",
       "      <td>357200.0</td>\n",
       "    </tr>\n",
       "  </tbody>\n",
       "</table>\n",
       "</div>"
      ],
      "text/plain": [
       "         RegionID Zipcode                 City State            Metro  \\\n",
       "3901590     58333    1338             Ashfield    MA  Greenfield Town   \n",
       "3901591     59107    3293            Woodstock    NH        Claremont   \n",
       "3901592     75672   40404                Berea    KY         Richmond   \n",
       "3901593     93733   81225  Mount Crested Butte    CO          missing   \n",
       "3901594     95851   89155             Mesquite    NV        Las Vegas   \n",
       "\n",
       "        CountyName  SizeRank  22yr_ROI   22yr_CV   5yr_ROI    5yr_CV  \\\n",
       "3901590   Franklin     14719  1.212474  0.232707  0.164719  0.058640   \n",
       "3901591    Grafton     14720  1.435814  0.303073  0.320468  0.065721   \n",
       "3901592    Madison     14721  1.336252  0.182705  0.351570  0.085981   \n",
       "3901593   Gunnison     14722  2.476714  0.282105  0.250753  0.096821   \n",
       "3901594      Clark     14723  1.024943  0.310044  0.546990  0.107277   \n",
       "\n",
       "              Date     value  \n",
       "3901590 2018-04-01  209300.0  \n",
       "3901591 2018-04-01  225800.0  \n",
       "3901592 2018-04-01  133400.0  \n",
       "3901593 2018-04-01  664400.0  \n",
       "3901594 2018-04-01  357200.0  "
      ]
     },
     "execution_count": 29,
     "metadata": {},
     "output_type": "execute_result"
    }
   ],
   "source": [
    "# Bottom five rows of the melted dataset\n",
    "\n",
    "new_data.tail()"
   ]
  },
  {
   "cell_type": "code",
   "execution_count": 46,
   "id": "b00a7f56",
   "metadata": {},
   "outputs": [
    {
     "name": "stdout",
     "output_type": "stream",
     "text": [
      "Number of rows: 3901595\n",
      "Number of columns: 12\n"
     ]
    }
   ],
   "source": [
    "# Number of rows and columns\n",
    "\n",
    "print('Number of rows:',new_data.shape[0])\n",
    "print('Number of columns:',new_data.shape[1])"
   ]
  },
  {
   "cell_type": "code",
   "execution_count": 31,
   "id": "83e0da8e",
   "metadata": {},
   "outputs": [
    {
     "name": "stdout",
     "output_type": "stream",
     "text": [
      "Numerical Columns: Index([], dtype='object')\n",
      "\n",
      "Categorical Columns: Index(['City', 'State', 'Metro', 'CountyName'], dtype='object')\n"
     ]
    }
   ],
   "source": [
    "# Numerical Columns\n",
    "print(f\"Numerical Columns: {new_data.select_dtypes(include='int').columns}\\n\")\n",
    "\n",
    "# Categorical Columns\n",
    "print(f\"Categorical Columns: {new_data.select_dtypes(include='object').columns}\")"
   ]
  },
  {
   "cell_type": "code",
   "execution_count": 32,
   "id": "43f6419c",
   "metadata": {},
   "outputs": [
    {
     "data": {
      "text/html": [
       "<div>\n",
       "<style scoped>\n",
       "    .dataframe tbody tr th:only-of-type {\n",
       "        vertical-align: middle;\n",
       "    }\n",
       "\n",
       "    .dataframe tbody tr th {\n",
       "        vertical-align: top;\n",
       "    }\n",
       "\n",
       "    .dataframe thead th {\n",
       "        text-align: right;\n",
       "    }\n",
       "</style>\n",
       "<table border=\"1\" class=\"dataframe\">\n",
       "  <thead>\n",
       "    <tr style=\"text-align: right;\">\n",
       "      <th></th>\n",
       "      <th>RegionID</th>\n",
       "      <th>SizeRank</th>\n",
       "      <th>22yr_ROI</th>\n",
       "      <th>22yr_CV</th>\n",
       "      <th>5yr_ROI</th>\n",
       "      <th>5yr_CV</th>\n",
       "      <th>value</th>\n",
       "    </tr>\n",
       "  </thead>\n",
       "  <tbody>\n",
       "    <tr>\n",
       "      <th>count</th>\n",
       "      <td>3.901595e+06</td>\n",
       "      <td>3.901595e+06</td>\n",
       "      <td>3.901595e+06</td>\n",
       "      <td>3.901595e+06</td>\n",
       "      <td>3.901595e+06</td>\n",
       "      <td>3.901595e+06</td>\n",
       "      <td>3.901595e+06</td>\n",
       "    </tr>\n",
       "    <tr>\n",
       "      <th>mean</th>\n",
       "      <td>8.107501e+04</td>\n",
       "      <td>7.362000e+03</td>\n",
       "      <td>1.308045e+00</td>\n",
       "      <td>2.373166e-01</td>\n",
       "      <td>3.347280e-01</td>\n",
       "      <td>8.890725e-02</td>\n",
       "      <td>2.060636e+05</td>\n",
       "    </tr>\n",
       "    <tr>\n",
       "      <th>std</th>\n",
       "      <td>3.193304e+04</td>\n",
       "      <td>4.250165e+03</td>\n",
       "      <td>1.490562e+00</td>\n",
       "      <td>9.595088e-02</td>\n",
       "      <td>2.658193e-01</td>\n",
       "      <td>5.661946e-02</td>\n",
       "      <td>2.368017e+05</td>\n",
       "    </tr>\n",
       "    <tr>\n",
       "      <th>min</th>\n",
       "      <td>5.819600e+04</td>\n",
       "      <td>1.000000e+00</td>\n",
       "      <td>-8.509374e-01</td>\n",
       "      <td>4.127471e-02</td>\n",
       "      <td>-9.484705e-01</td>\n",
       "      <td>4.643504e-03</td>\n",
       "      <td>1.130000e+04</td>\n",
       "    </tr>\n",
       "    <tr>\n",
       "      <th>25%</th>\n",
       "      <td>6.717400e+04</td>\n",
       "      <td>3.681000e+03</td>\n",
       "      <td>7.398374e-01</td>\n",
       "      <td>1.682299e-01</td>\n",
       "      <td>1.673081e-01</td>\n",
       "      <td>5.198128e-02</td>\n",
       "      <td>9.770000e+04</td>\n",
       "    </tr>\n",
       "    <tr>\n",
       "      <th>50%</th>\n",
       "      <td>7.800700e+04</td>\n",
       "      <td>7.362000e+03</td>\n",
       "      <td>1.113095e+00</td>\n",
       "      <td>2.281251e-01</td>\n",
       "      <td>2.813668e-01</td>\n",
       "      <td>7.864871e-02</td>\n",
       "      <td>1.469000e+05</td>\n",
       "    </tr>\n",
       "    <tr>\n",
       "      <th>75%</th>\n",
       "      <td>9.092100e+04</td>\n",
       "      <td>1.104300e+04</td>\n",
       "      <td>1.602582e+00</td>\n",
       "      <td>2.880063e-01</td>\n",
       "      <td>4.543509e-01</td>\n",
       "      <td>1.139259e-01</td>\n",
       "      <td>2.354000e+05</td>\n",
       "    </tr>\n",
       "    <tr>\n",
       "      <th>max</th>\n",
       "      <td>7.538440e+05</td>\n",
       "      <td>1.472300e+04</td>\n",
       "      <td>1.019626e+02</td>\n",
       "      <td>1.303920e+00</td>\n",
       "      <td>8.183323e+00</td>\n",
       "      <td>1.432861e+00</td>\n",
       "      <td>1.931490e+07</td>\n",
       "    </tr>\n",
       "  </tbody>\n",
       "</table>\n",
       "</div>"
      ],
      "text/plain": [
       "           RegionID      SizeRank      22yr_ROI       22yr_CV       5yr_ROI  \\\n",
       "count  3.901595e+06  3.901595e+06  3.901595e+06  3.901595e+06  3.901595e+06   \n",
       "mean   8.107501e+04  7.362000e+03  1.308045e+00  2.373166e-01  3.347280e-01   \n",
       "std    3.193304e+04  4.250165e+03  1.490562e+00  9.595088e-02  2.658193e-01   \n",
       "min    5.819600e+04  1.000000e+00 -8.509374e-01  4.127471e-02 -9.484705e-01   \n",
       "25%    6.717400e+04  3.681000e+03  7.398374e-01  1.682299e-01  1.673081e-01   \n",
       "50%    7.800700e+04  7.362000e+03  1.113095e+00  2.281251e-01  2.813668e-01   \n",
       "75%    9.092100e+04  1.104300e+04  1.602582e+00  2.880063e-01  4.543509e-01   \n",
       "max    7.538440e+05  1.472300e+04  1.019626e+02  1.303920e+00  8.183323e+00   \n",
       "\n",
       "             5yr_CV         value  \n",
       "count  3.901595e+06  3.901595e+06  \n",
       "mean   8.890725e-02  2.060636e+05  \n",
       "std    5.661946e-02  2.368017e+05  \n",
       "min    4.643504e-03  1.130000e+04  \n",
       "25%    5.198128e-02  9.770000e+04  \n",
       "50%    7.864871e-02  1.469000e+05  \n",
       "75%    1.139259e-01  2.354000e+05  \n",
       "max    1.432861e+00  1.931490e+07  "
      ]
     },
     "execution_count": 32,
     "metadata": {},
     "output_type": "execute_result"
    }
   ],
   "source": [
    "# Summary Statistics\n",
    "new_data.describe()"
   ]
  },
  {
   "cell_type": "markdown",
   "id": "8ae0a524",
   "metadata": {},
   "source": [
    "##### Data Indexing \n",
    "While working with time series data in Python, having dates (or datetimes) in the index can be very helpful, especially if they are of DatetimeIndex type."
   ]
  },
  {
   "cell_type": "code",
   "execution_count": 33,
   "id": "7001c5d9",
   "metadata": {},
   "outputs": [],
   "source": [
    "## Making the date column into the index\n",
    "\n",
    "new_data.set_index('Date',inplace = True)\n"
   ]
  },
  {
   "cell_type": "code",
   "execution_count": 34,
   "id": "f56a19ca",
   "metadata": {},
   "outputs": [
    {
     "name": "stdout",
     "output_type": "stream",
     "text": [
      "Index column is date!\n"
     ]
    }
   ],
   "source": [
    "# Checking to confirm if the index column of our new dataframe is Date column \n",
    "if isinstance(new_data.index, pd.DatetimeIndex):\n",
    "    new_data.index.name == 'Date'\n",
    "    print(\"Index column is date!\")\n",
    "else:\n",
    "    print('Index column is not Date')"
   ]
  },
  {
   "cell_type": "code",
   "execution_count": 35,
   "id": "f89f063b",
   "metadata": {},
   "outputs": [
    {
     "data": {
      "text/plain": [
       "DatetimeIndex(['1996-04-01', '1996-04-01', '1996-04-01', '1996-04-01',\n",
       "               '1996-04-01', '1996-04-01', '1996-04-01', '1996-04-01',\n",
       "               '1996-04-01', '1996-04-01',\n",
       "               ...\n",
       "               '2018-04-01', '2018-04-01', '2018-04-01', '2018-04-01',\n",
       "               '2018-04-01', '2018-04-01', '2018-04-01', '2018-04-01',\n",
       "               '2018-04-01', '2018-04-01'],\n",
       "              dtype='datetime64[ns]', name='Date', length=3901595, freq=None)"
      ]
     },
     "execution_count": 35,
     "metadata": {},
     "output_type": "execute_result"
    }
   ],
   "source": [
    "# Inspecting Index column \n",
    "new_data.index"
   ]
  },
  {
   "cell_type": "markdown",
   "id": "93212778",
   "metadata": {},
   "source": [
    "The output above shows that our dataset clearly fulfills the indexing requirements. Look at the last line:\n",
    "\n",
    "dtype='datetime64[ns]',... length=3901595,...'\n",
    "\n",
    "dtype=datetime[ns] field confirms that the index is made of timestamp objects.\n",
    "length=3901595 shows the total number of entries in our time series data.\n"
   ]
  },
  {
   "cell_type": "markdown",
   "id": "0a3552b5",
   "metadata": {},
   "source": [
    "#### Exploratory Data Analysis\n",
    "\n",
    " Exploration will be done on the data to determine:\n",
    "\n",
    "- Does Urbanization Affect Median House Prices?\n",
    "\n",
    "- Which cities fetch the highest median house prices?\n",
    "\n",
    "- What top 5 Zipcodes have the highest ROI?\n",
    "\n",
    "- Which zipcodes have high price volatility?\n",
    "\n",
    "##### Univariate Analysis"
   ]
  },
  {
   "cell_type": "code",
   "execution_count": null,
   "id": "d1b04ef7",
   "metadata": {},
   "outputs": [],
   "source": []
  },
  {
   "cell_type": "code",
   "execution_count": 57,
   "id": "7e445f26",
   "metadata": {},
   "outputs": [
    {
     "data": {
      "text/html": [
       "<div>\n",
       "<style scoped>\n",
       "    .dataframe tbody tr th:only-of-type {\n",
       "        vertical-align: middle;\n",
       "    }\n",
       "\n",
       "    .dataframe tbody tr th {\n",
       "        vertical-align: top;\n",
       "    }\n",
       "\n",
       "    .dataframe thead th {\n",
       "        text-align: right;\n",
       "    }\n",
       "</style>\n",
       "<table border=\"1\" class=\"dataframe\">\n",
       "  <thead>\n",
       "    <tr style=\"text-align: right;\">\n",
       "      <th></th>\n",
       "      <th>RegionID</th>\n",
       "      <th>Zipcode</th>\n",
       "      <th>City</th>\n",
       "      <th>State</th>\n",
       "      <th>Metro</th>\n",
       "      <th>CountyName</th>\n",
       "      <th>SizeRank</th>\n",
       "      <th>22yr_ROI</th>\n",
       "      <th>22yr_CV</th>\n",
       "      <th>5yr_ROI</th>\n",
       "      <th>5yr_CV</th>\n",
       "      <th>value</th>\n",
       "    </tr>\n",
       "    <tr>\n",
       "      <th>Date</th>\n",
       "      <th></th>\n",
       "      <th></th>\n",
       "      <th></th>\n",
       "      <th></th>\n",
       "      <th></th>\n",
       "      <th></th>\n",
       "      <th></th>\n",
       "      <th></th>\n",
       "      <th></th>\n",
       "      <th></th>\n",
       "      <th></th>\n",
       "      <th></th>\n",
       "    </tr>\n",
       "  </thead>\n",
       "  <tbody>\n",
       "    <tr>\n",
       "      <th>1996-04-01</th>\n",
       "      <td>84654</td>\n",
       "      <td>60657</td>\n",
       "      <td>Chicago</td>\n",
       "      <td>IL</td>\n",
       "      <td>Chicago</td>\n",
       "      <td>Cook</td>\n",
       "      <td>1</td>\n",
       "      <td>2.083782</td>\n",
       "      <td>0.256487</td>\n",
       "      <td>0.260827</td>\n",
       "      <td>0.066302</td>\n",
       "      <td>334200.0</td>\n",
       "    </tr>\n",
       "    <tr>\n",
       "      <th>1996-04-01</th>\n",
       "      <td>90668</td>\n",
       "      <td>75070</td>\n",
       "      <td>McKinney</td>\n",
       "      <td>TX</td>\n",
       "      <td>Dallas-Fort Worth</td>\n",
       "      <td>Collin</td>\n",
       "      <td>2</td>\n",
       "      <td>0.365295</td>\n",
       "      <td>0.152680</td>\n",
       "      <td>0.533842</td>\n",
       "      <td>0.124597</td>\n",
       "      <td>235700.0</td>\n",
       "    </tr>\n",
       "    <tr>\n",
       "      <th>1996-04-01</th>\n",
       "      <td>91982</td>\n",
       "      <td>77494</td>\n",
       "      <td>Katy</td>\n",
       "      <td>TX</td>\n",
       "      <td>Houston</td>\n",
       "      <td>Harris</td>\n",
       "      <td>3</td>\n",
       "      <td>0.567966</td>\n",
       "      <td>0.143950</td>\n",
       "      <td>0.283158</td>\n",
       "      <td>0.072385</td>\n",
       "      <td>210400.0</td>\n",
       "    </tr>\n",
       "    <tr>\n",
       "      <th>1996-04-01</th>\n",
       "      <td>84616</td>\n",
       "      <td>60614</td>\n",
       "      <td>Chicago</td>\n",
       "      <td>IL</td>\n",
       "      <td>Chicago</td>\n",
       "      <td>Cook</td>\n",
       "      <td>4</td>\n",
       "      <td>1.623971</td>\n",
       "      <td>0.237364</td>\n",
       "      <td>0.258788</td>\n",
       "      <td>0.056243</td>\n",
       "      <td>498100.0</td>\n",
       "    </tr>\n",
       "    <tr>\n",
       "      <th>1996-04-01</th>\n",
       "      <td>93144</td>\n",
       "      <td>79936</td>\n",
       "      <td>El Paso</td>\n",
       "      <td>TX</td>\n",
       "      <td>El Paso</td>\n",
       "      <td>El Paso</td>\n",
       "      <td>5</td>\n",
       "      <td>0.571798</td>\n",
       "      <td>0.178326</td>\n",
       "      <td>0.070485</td>\n",
       "      <td>0.023086</td>\n",
       "      <td>77300.0</td>\n",
       "    </tr>\n",
       "    <tr>\n",
       "      <th>...</th>\n",
       "      <td>...</td>\n",
       "      <td>...</td>\n",
       "      <td>...</td>\n",
       "      <td>...</td>\n",
       "      <td>...</td>\n",
       "      <td>...</td>\n",
       "      <td>...</td>\n",
       "      <td>...</td>\n",
       "      <td>...</td>\n",
       "      <td>...</td>\n",
       "      <td>...</td>\n",
       "      <td>...</td>\n",
       "    </tr>\n",
       "    <tr>\n",
       "      <th>2018-04-01</th>\n",
       "      <td>58333</td>\n",
       "      <td>1338</td>\n",
       "      <td>Ashfield</td>\n",
       "      <td>MA</td>\n",
       "      <td>Greenfield Town</td>\n",
       "      <td>Franklin</td>\n",
       "      <td>14719</td>\n",
       "      <td>1.212474</td>\n",
       "      <td>0.232707</td>\n",
       "      <td>0.164719</td>\n",
       "      <td>0.058640</td>\n",
       "      <td>209300.0</td>\n",
       "    </tr>\n",
       "    <tr>\n",
       "      <th>2018-04-01</th>\n",
       "      <td>59107</td>\n",
       "      <td>3293</td>\n",
       "      <td>Woodstock</td>\n",
       "      <td>NH</td>\n",
       "      <td>Claremont</td>\n",
       "      <td>Grafton</td>\n",
       "      <td>14720</td>\n",
       "      <td>1.435814</td>\n",
       "      <td>0.303073</td>\n",
       "      <td>0.320468</td>\n",
       "      <td>0.065721</td>\n",
       "      <td>225800.0</td>\n",
       "    </tr>\n",
       "    <tr>\n",
       "      <th>2018-04-01</th>\n",
       "      <td>75672</td>\n",
       "      <td>40404</td>\n",
       "      <td>Berea</td>\n",
       "      <td>KY</td>\n",
       "      <td>Richmond</td>\n",
       "      <td>Madison</td>\n",
       "      <td>14721</td>\n",
       "      <td>1.336252</td>\n",
       "      <td>0.182705</td>\n",
       "      <td>0.351570</td>\n",
       "      <td>0.085981</td>\n",
       "      <td>133400.0</td>\n",
       "    </tr>\n",
       "    <tr>\n",
       "      <th>2018-04-01</th>\n",
       "      <td>93733</td>\n",
       "      <td>81225</td>\n",
       "      <td>Mount Crested Butte</td>\n",
       "      <td>CO</td>\n",
       "      <td>missing</td>\n",
       "      <td>Gunnison</td>\n",
       "      <td>14722</td>\n",
       "      <td>2.476714</td>\n",
       "      <td>0.282105</td>\n",
       "      <td>0.250753</td>\n",
       "      <td>0.096821</td>\n",
       "      <td>664400.0</td>\n",
       "    </tr>\n",
       "    <tr>\n",
       "      <th>2018-04-01</th>\n",
       "      <td>95851</td>\n",
       "      <td>89155</td>\n",
       "      <td>Mesquite</td>\n",
       "      <td>NV</td>\n",
       "      <td>Las Vegas</td>\n",
       "      <td>Clark</td>\n",
       "      <td>14723</td>\n",
       "      <td>1.024943</td>\n",
       "      <td>0.310044</td>\n",
       "      <td>0.546990</td>\n",
       "      <td>0.107277</td>\n",
       "      <td>357200.0</td>\n",
       "    </tr>\n",
       "  </tbody>\n",
       "</table>\n",
       "<p>3901595 rows × 12 columns</p>\n",
       "</div>"
      ],
      "text/plain": [
       "            RegionID Zipcode                 City State              Metro  \\\n",
       "Date                                                                         \n",
       "1996-04-01     84654   60657              Chicago    IL            Chicago   \n",
       "1996-04-01     90668   75070             McKinney    TX  Dallas-Fort Worth   \n",
       "1996-04-01     91982   77494                 Katy    TX            Houston   \n",
       "1996-04-01     84616   60614              Chicago    IL            Chicago   \n",
       "1996-04-01     93144   79936              El Paso    TX            El Paso   \n",
       "...              ...     ...                  ...   ...                ...   \n",
       "2018-04-01     58333    1338             Ashfield    MA    Greenfield Town   \n",
       "2018-04-01     59107    3293            Woodstock    NH          Claremont   \n",
       "2018-04-01     75672   40404                Berea    KY           Richmond   \n",
       "2018-04-01     93733   81225  Mount Crested Butte    CO            missing   \n",
       "2018-04-01     95851   89155             Mesquite    NV          Las Vegas   \n",
       "\n",
       "           CountyName  SizeRank  22yr_ROI   22yr_CV   5yr_ROI    5yr_CV  \\\n",
       "Date                                                                      \n",
       "1996-04-01       Cook         1  2.083782  0.256487  0.260827  0.066302   \n",
       "1996-04-01     Collin         2  0.365295  0.152680  0.533842  0.124597   \n",
       "1996-04-01     Harris         3  0.567966  0.143950  0.283158  0.072385   \n",
       "1996-04-01       Cook         4  1.623971  0.237364  0.258788  0.056243   \n",
       "1996-04-01    El Paso         5  0.571798  0.178326  0.070485  0.023086   \n",
       "...               ...       ...       ...       ...       ...       ...   \n",
       "2018-04-01   Franklin     14719  1.212474  0.232707  0.164719  0.058640   \n",
       "2018-04-01    Grafton     14720  1.435814  0.303073  0.320468  0.065721   \n",
       "2018-04-01    Madison     14721  1.336252  0.182705  0.351570  0.085981   \n",
       "2018-04-01   Gunnison     14722  2.476714  0.282105  0.250753  0.096821   \n",
       "2018-04-01      Clark     14723  1.024943  0.310044  0.546990  0.107277   \n",
       "\n",
       "               value  \n",
       "Date                  \n",
       "1996-04-01  334200.0  \n",
       "1996-04-01  235700.0  \n",
       "1996-04-01  210400.0  \n",
       "1996-04-01  498100.0  \n",
       "1996-04-01   77300.0  \n",
       "...              ...  \n",
       "2018-04-01  209300.0  \n",
       "2018-04-01  225800.0  \n",
       "2018-04-01  133400.0  \n",
       "2018-04-01  664400.0  \n",
       "2018-04-01  357200.0  \n",
       "\n",
       "[3901595 rows x 12 columns]"
      ]
     },
     "execution_count": 57,
     "metadata": {},
     "output_type": "execute_result"
    }
   ],
   "source": [
    "new_data"
   ]
  },
  {
   "cell_type": "code",
   "execution_count": 63,
   "id": "c02323d2",
   "metadata": {},
   "outputs": [
    {
     "data": {
      "text/plain": [
       "1212"
      ]
     },
     "execution_count": 63,
     "metadata": {},
     "output_type": "execute_result"
    }
   ],
   "source": [
    "new_data.CountyName.nunique()"
   ]
  },
  {
   "cell_type": "code",
   "execution_count": 53,
   "id": "5549a8a4",
   "metadata": {},
   "outputs": [],
   "source": [
    "urban_housevalue = pd.DataFrame(new_data.groupby(\"SizeRank\")[\"value\"].mean()\n",
    "                                .sort_values(ascending=False).head(5))"
   ]
  },
  {
   "cell_type": "code",
   "execution_count": 58,
   "id": "e6427348",
   "metadata": {},
   "outputs": [
    {
     "data": {
      "text/html": [
       "<div>\n",
       "<style scoped>\n",
       "    .dataframe tbody tr th:only-of-type {\n",
       "        vertical-align: middle;\n",
       "    }\n",
       "\n",
       "    .dataframe tbody tr th {\n",
       "        vertical-align: top;\n",
       "    }\n",
       "\n",
       "    .dataframe thead th {\n",
       "        text-align: right;\n",
       "    }\n",
       "</style>\n",
       "<table border=\"1\" class=\"dataframe\">\n",
       "  <thead>\n",
       "    <tr style=\"text-align: right;\">\n",
       "      <th></th>\n",
       "      <th>value</th>\n",
       "    </tr>\n",
       "    <tr>\n",
       "      <th>SizeRank</th>\n",
       "      <th></th>\n",
       "    </tr>\n",
       "  </thead>\n",
       "  <tbody>\n",
       "    <tr>\n",
       "      <th>273</th>\n",
       "      <td>8.438275e+06</td>\n",
       "    </tr>\n",
       "    <tr>\n",
       "      <th>21</th>\n",
       "      <td>5.444482e+06</td>\n",
       "    </tr>\n",
       "    <tr>\n",
       "      <th>22</th>\n",
       "      <td>5.085436e+06</td>\n",
       "    </tr>\n",
       "    <tr>\n",
       "      <th>509</th>\n",
       "      <td>4.507875e+06</td>\n",
       "    </tr>\n",
       "    <tr>\n",
       "      <th>10238</th>\n",
       "      <td>3.487129e+06</td>\n",
       "    </tr>\n",
       "  </tbody>\n",
       "</table>\n",
       "</div>"
      ],
      "text/plain": [
       "                 value\n",
       "SizeRank              \n",
       "273       8.438275e+06\n",
       "21        5.444482e+06\n",
       "22        5.085436e+06\n",
       "509       4.507875e+06\n",
       "10238     3.487129e+06"
      ]
     },
     "execution_count": 58,
     "metadata": {},
     "output_type": "execute_result"
    }
   ],
   "source": [
    "urban_housevalue"
   ]
  },
  {
   "cell_type": "code",
   "execution_count": 54,
   "id": "26a21052",
   "metadata": {},
   "outputs": [
    {
     "data": {
      "text/plain": [
       "Text(0.5, 0, 'SizeRank')"
      ]
     },
     "execution_count": 54,
     "metadata": {},
     "output_type": "execute_result"
    },
    {
     "data": {
      "image/png": "[encoded data removed]",
      "text/plain": [
       "<Figure size 720x360 with 1 Axes>"
      ]
     },
     "metadata": {
      "needs_background": "light"
     },
     "output_type": "display_data"
    }
   ],
   "source": [
    "ax1 = urban_housevalue.plot(kind='bar', figsize=(10,5), color=\"blue\", fontsize=13);\n",
    "ax1.set_alpha(0.8)\n",
    "\n",
    "ax1.set_title(\"Top Ten Median House Prices by Urbanization\", fontsize=26)\n",
    "ax1.set_ylabel(\"Average Median House Price\", fontsize=20);\n",
    "ax1.set_xlabel(\"SizeRank\", fontsize=20)"
   ]
  },
  {
   "cell_type": "code",
   "execution_count": 55,
   "id": "93023c16",
   "metadata": {},
   "outputs": [],
   "source": [
    "houseprice_topcities = pd.DataFrame(new_data.groupby(\"City\")[\"value\"].mean()\n",
    "                                    .sort_values(ascending=False).head(5))"
   ]
  },
  {
   "cell_type": "code",
   "execution_count": 56,
   "id": "a6ab8d76",
   "metadata": {},
   "outputs": [
    {
     "data": {
      "image/png": "[encoded data removed]",
      "text/plain": [
       "<Figure size 720x360 with 1 Axes>"
      ]
     },
     "metadata": {
      "needs_background": "light"
     },
     "output_type": "display_data"
    }
   ],
   "source": [
    "ax2 = houseprice_topcities.plot(kind='bar', figsize=(10,5), color=\"blue\", fontsize=13);\n",
    "ax2.set_alpha(0.8)\n",
    "\n",
    "ax2.set_title(\"Top Ten Median House Prices by Cities\", fontsize=26)\n",
    "ax2.set_ylabel(\"Average Median House Price\", fontsize=20);\n",
    "ax2.set_xlabel(\"Cities\", fontsize=20)\n",
    "plt.xticks(fontsize= 18)\n",
    "\n",
    "plt.show()"
   ]
  },
  {
   "cell_type": "code",
   "execution_count": null,
   "id": "88cb9021",
   "metadata": {},
   "outputs": [],
   "source": []
  },
  {
   "cell_type": "code",
   "execution_count": null,
   "id": "c33e66c4",
   "metadata": {},
   "outputs": [],
   "source": []
  },
  {
   "cell_type": "markdown",
   "id": "5a5f049a",
   "metadata": {},
   "source": [
    "#### Time Series EDA\n",
    "\n",
    "This analysis will answer the question: What is the trend of median houseprices over the years?\n",
    " \n",
    "However, given the large volume of our data, we perform our EDA in two phases: one between 1996 to 2007 and another between 2007 and 2018."
   ]
  },
  {
   "cell_type": "markdown",
   "id": "b233f530",
   "metadata": {},
   "source": [
    "#### Series 1"
   ]
  },
  {
   "cell_type": "code",
   "execution_count": 64,
   "id": "10aba418",
   "metadata": {},
   "outputs": [
    {
     "data": {
      "image/png": "[encoded data removed]",
      "text/plain": [
       "<Figure size 1584x576 with 1 Axes>"
      ]
     },
     "metadata": {
      "needs_background": "light"
     },
     "output_type": "display_data"
    }
   ],
   "source": [
    "time_series_monthly = new_data.resample('MS').mean()['value']\n",
    "# Draw a line plot using the new data\n",
    "time_series_monthly.plot(figsize = (22,8))\n",
    "\n",
    "plt.title('Typical Home Value by Month Between 1996 and 2007',fontsize = 20)\n",
    "plt.ylabel('Value in US Dollars ($)',fontsize = 20)\n",
    "plt.xlabel ('1996 - 2007',fontsize = 20)\n",
    "\n",
    "plt.yticks(fontsize = 20)\n",
    "plt.xticks (fontsize = 20)\n",
    "\n",
    "plt.show()"
   ]
  },
  {
   "cell_type": "code",
   "execution_count": 65,
   "id": "df0c726b",
   "metadata": {},
   "outputs": [
    {
     "data": {
      "image/png": "[encoded data removed]",
      "text/plain": [
       "<Figure size 432x288 with 1 Axes>"
      ]
     },
     "metadata": {
      "needs_background": "light"
     },
     "output_type": "display_data"
    }
   ],
   "source": [
    "# Annual \n",
    "yearly_data =  new_data['value'].resample(rule='A').mean()\n",
    "yearly_data.plot.line(color='magenta',)\n",
    "\n",
    "plt.title('Home Value by Year')\n",
    "plt.ylabel('Value in US Dollars ($)')\n",
    "plt.xlabel ('1996 - 2007')\n",
    "\n",
    "\n",
    "plt.show()"
   ]
  },
  {
   "cell_type": "code",
   "execution_count": 39,
   "id": "b40a5ebb",
   "metadata": {},
   "outputs": [
    {
     "data": {
      "image/png": "[encoded data removed]",
      "text/plain": [
       "<Figure size 864x432 with 1 Axes>"
      ]
     },
     "metadata": {
      "needs_background": "light"
     },
     "output_type": "display_data"
    }
   ],
   "source": [
    "# Plot a histogram of the dataset\n",
    "time_series1_monthly.hist(figsize = (12,6))\n",
    "plt.show()"
   ]
  },
  {
   "cell_type": "code",
   "execution_count": 40,
   "id": "8b8ba4a3",
   "metadata": {},
   "outputs": [
    {
     "data": {
      "image/png": "[encoded data removed]",
      "text/plain": [
       "<Figure size 864x432 with 1 Axes>"
      ]
     },
     "metadata": {
      "needs_background": "light"
     },
     "output_type": "display_data"
    }
   ],
   "source": [
    "# Plot a density plot for temperature dataset\n",
    "time_series1_monthly.plot(kind='kde', figsize = (12,6))\n",
    "plt.show()"
   ]
  },
  {
   "cell_type": "markdown",
   "id": "252e9ced",
   "metadata": {},
   "source": [
    "#### Heatmap for Time Series"
   ]
  },
  {
   "cell_type": "code",
   "execution_count": 45,
   "id": "0b729ba8",
   "metadata": {},
   "outputs": [
    {
     "data": {
      "image/png": "[encoded data removed]",
      "text/plain": [
       "<Figure size 1152x144 with 1 Axes>"
      ]
     },
     "metadata": {
      "needs_background": "light"
     },
     "output_type": "display_data"
    }
   ],
   "source": [
    "# Transpose the yearly group DataFrame\n",
    "year_matrix = new_data['value'].resample(rule='A').mean().to_frame().T\n",
    "\n",
    "# Draw a heatmap with matshow()\n",
    "plt.matshow( year_matrix, interpolation=None, aspect='auto', cmap=plt.cm.Spectral_r)\n",
    "plt.show()"
   ]
  }
 ],
 "metadata": {
  "kernelspec": {
   "display_name": "Python (learn-env)",
   "language": "python",
   "name": "learn-env"
  },
  "language_info": {
   "codemirror_mode": {
    "name": "ipython",
    "version": 3
   },
   "file_extension": ".py",
   "mimetype": "text/x-python",
   "name": "python",
   "nbconvert_exporter": "python",
   "pygments_lexer": "ipython3",
   "version": "3.8.5"
  },
  "vscode": {
   "interpreter": {
    "hash": "dc07d24e2f18896857f0b2a651fe84ba40ce7b297e58d8804a308c8039f752a6"
   }
  }
 },
 "nbformat": 4,
 "nbformat_minor": 5
}
